{
 "cells": [
  {
   "cell_type": "code",
   "execution_count": 13,
   "metadata": {},
   "outputs": [],
   "source": [
    "from functools import partial"
   ]
  },
  {
   "cell_type": "code",
   "execution_count": 62,
   "metadata": {},
   "outputs": [],
   "source": [
    "%matplotlib inline\n",
    "import matplotlib.pyplot as plt\n",
    "import numpy as np\n",
    "import scipy.stats"
   ]
  },
  {
   "cell_type": "code",
   "execution_count": 20,
   "metadata": {},
   "outputs": [],
   "source": [
    "import wlcsim.analytical.homolog as whom"
   ]
  },
  {
   "cell_type": "code",
   "execution_count": 274,
   "metadata": {},
   "outputs": [],
   "source": [
    "def map_not_none(f, iterable, **kwargs):\n",
    "    return [x for x in map(partial(f, **kwargs), iterable) if x is not None]"
   ]
  },
  {
   "cell_type": "code",
   "execution_count": 181,
   "metadata": {},
   "outputs": [],
   "source": [
    "L = 100\n",
    "b = 3  # max plateau is \"farthest linear\" Ndel=2*L => 4*b**2*L\n",
    "mu = 5\n",
    "num_cells = 1000000\n",
    "label_loc = (1/3) * L\n",
    "nuc_radius = 3500  # whatever man, a little less than max plateau"
   ]
  },
  {
   "cell_type": "code",
   "execution_count": 182,
   "metadata": {},
   "outputs": [],
   "source": [
    "cells = [whom.generate_poisson_homologs(mu=mu, chr_size=L) for i in range(num_cells)]"
   ]
  },
  {
   "cell_type": "code",
   "execution_count": 183,
   "metadata": {},
   "outputs": [],
   "source": [
    "def get_neighbors(linkages, label_loc):\n",
    "    i = np.searchsorted(linkages, label_loc)\n",
    "    neighbors = [None, None]\n",
    "    if i > 0:\n",
    "        neighbors[0] = linkages[i - 1]\n",
    "    if i < len(linkages):\n",
    "        neighbors[1] = linkages[i]\n",
    "    return neighbors"
   ]
  },
  {
   "cell_type": "code",
   "execution_count": 275,
   "metadata": {},
   "outputs": [],
   "source": [
    "neighbors = map_not_none(get_neighbors, cells, label_loc=label_loc)"
   ]
  },
  {
   "cell_type": "code",
   "execution_count": 268,
   "metadata": {},
   "outputs": [],
   "source": [
    "def is_linkless(neighbors):\n",
    "    return neighbors[0] is None and neighbors[1] is None\n",
    "def is_linear(neighbors):\n",
    "    # xor\n",
    "    return (neighbors[0] is None) != (neighbors[1] is None)\n",
    "def is_ring(neighbors):\n",
    "    return neighbors[0] is not None and neighbors[1] is not None\n",
    "\n",
    "def P_is_empty(mu):\n",
    "    return np.exp(-mu)\n",
    "\n",
    "def P_is_ring(mu, l0, L):\n",
    "    return (1 - np.exp(-(mu/L)*label_loc)) * (1 - np.exp(-(mu/L)*(L - label_loc)))\n",
    "\n",
    "def P_is_linear(mu, l0, L):\n",
    "    return 1 - P_is_ring(mu, l0, L) - P_is_empty(mu)\n",
    "                                              "
   ]
  },
  {
   "cell_type": "code",
   "execution_count": 256,
   "metadata": {},
   "outputs": [],
   "source": [
    "frac_empty = np.mean([*map(has_no_link, neighbors)])\n",
    "frac_linear = np.mean([*map(is_linear, neighbors)])\n",
    "frac_ring = np.mean([*map(is_ring, neighbors)])"
   ]
  },
  {
   "cell_type": "code",
   "execution_count": 257,
   "metadata": {},
   "outputs": [
    {
     "data": {
      "text/plain": [
       "'frac_empty is: 0.006838 ~ 0.006737946999085467 ~ 0.006737946999085467'"
      ]
     },
     "execution_count": 257,
     "metadata": {},
     "output_type": "execute_result"
    }
   ],
   "source": [
    "f\"frac_empty is: {frac_empty} ~ {scipy.stats.poisson.pmf(0, mu)} ~ {P_is_empty(mu)}\""
   ]
  },
  {
   "cell_type": "code",
   "execution_count": 258,
   "metadata": {},
   "outputs": [
    {
     "data": {
      "text/plain": [
       "'frac_ring is: 0.781864 ~ 0.7821883508142712'"
      ]
     },
     "execution_count": 258,
     "metadata": {},
     "output_type": "execute_result"
    }
   ],
   "source": [
    "f\"frac_ring is: {frac_ring} ~ {P_is_ring(mu, label_loc, L)}\""
   ]
  },
  {
   "cell_type": "code",
   "execution_count": 259,
   "metadata": {},
   "outputs": [
    {
     "data": {
      "text/plain": [
       "\"frac_linear (0.211298) is what's left: 0.21107370218664334\""
      ]
     },
     "execution_count": 259,
     "metadata": {},
     "output_type": "execute_result"
    }
   ],
   "source": [
    "f\"frac_linear ({frac_linear}) is what's left: {P_is_linear(mu, label_loc, L)}\""
   ]
  },
  {
   "cell_type": "code",
   "execution_count": 277,
   "metadata": {},
   "outputs": [],
   "source": [
    "def get_N(neighbors, L):\n",
    "    if is_linkless(neighbors):\n",
    "        return None\n",
    "    neighbors = neighbors.copy()\n",
    "    if neighbors[0] is None:\n",
    "        neighbors[0] = 0\n",
    "    if neighbors[1] is None:\n",
    "        neighbors[1] = L\n",
    "    return 2*(neighbors[1] - neighbors[0])\n",
    "\n",
    "\n",
    "def get_N_ring(neighbors):\n",
    "    if not is_ring(neighbors):\n",
    "        return None\n",
    "    return 2*(neighbors[1] - neighbors[0])\n",
    "\n",
    "\n",
    "def get_N_linear(neighbors, L):\n",
    "    if not is_linear(neighbors):\n",
    "        return None\n",
    "    return get_N(neighbors, L)"
   ]
  },
  {
   "cell_type": "code",
   "execution_count": 283,
   "metadata": {},
   "outputs": [],
   "source": [
    "Ns = map_not_none(get_N, neighbors, L=L)\n",
    "Ns_ring = map_not_none(get_N_ring, neighbors)\n",
    "Ns_linear = map_not_none(get_N_linear, neighbors, L=L)"
   ]
  },
  {
   "cell_type": "markdown",
   "metadata": {},
   "source": [
    "Analytically, we can .... type this up later...."
   ]
  },
  {
   "cell_type": "code",
   "execution_count": 320,
   "metadata": {},
   "outputs": [],
   "source": [
    "def P_N_linear(N, mu, l0, L):\n",
    "    N = np.array(N)\n",
    "    lam = mu/L\n",
    "    has_left_only = (1 - np.exp(-lam*l0)) * np.exp(-lam*(L - l0))\n",
    "    has_right_only = (1 - np.exp(-lam*(L - l0))) * np.exp(-lam*l0)\n",
    "    Z_L = (1 - np.exp(-lam*l0)) / lam\n",
    "    Z_R = (1 - np.exp(-lam*(L - l0))) / lam\n",
    "    return np.zeros_like(N) + (1/2) * (N <= 2*L) * (  # (1/2)* from jacobian\n",
    "        (N >= 2*(L - l0)) * has_left_only * (1/Z_L)*np.exp(-lam*(N/2 - (L - l0)))\n",
    "      + (N >= 2*l0) * has_right_only * (1/Z_R)*np.exp(-lam*(N/2 - l0))\n",
    "    ) / (has_left_only + has_right_only)\n",
    "\n",
    "def _inside_interval_weights(N, l0, L):\n",
    "    line_lengths = (\n",
    "        (L >= N/2)*(N/2 >= L - l0) * (L - N/2)\n",
    "      + (L - l0 > N/2)*(N/2 >= l0) * l0\n",
    "      + (l0 > N/2)*(N/2 >= 0) * N/2\n",
    "    )\n",
    "#     total_line_length = np.sqrt(2) * l0 * (L + l0)\n",
    "    return (0 <= N/2) * (N/2 <= L) * line_lengths\n",
    "    \n",
    "def P_N_ring(N, mu, l0, L):\n",
    "    N = np.array(N)\n",
    "    lam = mu/L\n",
    "    Z_LR = (np.exp(lam*L) - np.exp(lam*l0))*(np.exp(lam*l0) - 1) \\\n",
    "         / (lam**2 * np.exp(lam*(L + l0)))\n",
    "    return np.zeros_like(N) + (1/2) * (N <= 2*L) *(\n",
    "        (1/Z_LR)*np.exp(-lam*N/2) * _inside_interval_weights(N, l0, L)\n",
    "    )\n",
    "\n",
    "def P_N(N, mu, l0, L):\n",
    "    "
   ]
  },
  {
   "cell_type": "code",
   "execution_count": null,
   "metadata": {},
   "outputs": [],
   "source": [
    "bins = np.arange(0, 2*L + 1, 2)\n",
    "density, bins, _ = plt.hist(Ns, density=1, bins=bins)\n",
    "plt.axvline(2*label_loc, c='k')\n",
    "plt.axvline(2*(L - label_loc), c='k')\n",
    "plt.yscale('log')"
   ]
  },
  {
   "cell_type": "code",
   "execution_count": 302,
   "metadata": {},
   "outputs": [
    {
     "data": {
      "text/plain": [
       "[<matplotlib.lines.Line2D at 0x7f6cb0e88280>]"
      ]
     },
     "execution_count": 302,
     "metadata": {},
     "output_type": "execute_result"
    },
    {
     "data": {
      "image/png": "[encoded data removed]",
      "text/plain": [
       "<Figure size 432x288 with 1 Axes>"
      ]
     },
     "metadata": {
      "needs_background": "light"
     },
     "output_type": "display_data"
    }
   ],
   "source": [
    "_, _, _ = plt.hist(Ns_linear, density=1, bins=bins)\n",
    "plt.axvline(2*label_loc, c='k')\n",
    "plt.axvline(2*(L - label_loc), c='k')\n",
    "plt.yscale('log')\n",
    "\n",
    "N = np.linspace(0, 2*L, 1000)\n",
    "plt.plot(N, P_N_linear(N, mu, label_loc, L))"
   ]
  },
  {
   "cell_type": "code",
   "execution_count": 321,
   "metadata": {},
   "outputs": [
    {
     "data": {
      "text/plain": [
       "[<matplotlib.lines.Line2D at 0x7f6cb2420c40>]"
      ]
     },
     "execution_count": 321,
     "metadata": {},
     "output_type": "execute_result"
    },
    {
     "data": {
      "image/png": "[encoded data removed]",
      "text/plain": [
       "<Figure size 432x288 with 1 Axes>"
      ]
     },
     "metadata": {
      "needs_background": "light"
     },
     "output_type": "display_data"
    }
   ],
   "source": [
    "_, _, _ = plt.hist(Ns_ring, density=1, bins=bins)\n",
    "plt.axvline(2*label_loc, c='k')\n",
    "plt.axvline(2*label_loc/2, c='k')\n",
    "plt.axvline(2*(L - label_loc), c='k')\n",
    "plt.yscale('log')\n",
    "\n",
    "N = np.linspace(0, 2*L, 1000)\n",
    "plt.plot(N, P_N_ring(N, mu, label_loc, L))"
   ]
  },
  {
   "cell_type": "code",
   "execution_count": 271,
   "metadata": {},
   "outputs": [],
   "source": [
    "def get_Ndel(neighbors, label_loc):\n",
    "    if neighbors[0] is not None:\n",
    "        return label_loc - neighbors[0]\n",
    "    elif neighbors[1] is not None:\n",
    "        return neighbors[1] - label_loc\n",
    "    else:\n",
    "        return None\n",
    "    \n",
    "def get_Ndel_ring(neighbors, label_loc):\n",
    "    if not is_ring(neighbors):\n",
    "        return None\n",
    "    return label_loc - neighbors[0]\n",
    "\n",
    "def get_Ndel_linear(neighbors, label_loc):\n",
    "    if not is_linear(neighbors):\n",
    "        return None\n",
    "    if neighbors[0] is not None:\n",
    "        return label_loc - neighbors[0]\n",
    "    return neighbors[1] - label_loc\n"
   ]
  },
  {
   "cell_type": "code",
   "execution_count": 279,
   "metadata": {},
   "outputs": [],
   "source": [
    "Ndels = map_not_none(get_Ndel, neighbors, label_loc=label_loc)\n",
    "Ndels_ring = map_not_none(get_Ndel_ring, neighbors, label_loc=label_loc)\n",
    "Ndels_linear = map_not_none(get_Ndel_linear, neighbors, label_loc=label_loc)"
   ]
  },
  {
   "cell_type": "markdown",
   "metadata": {},
   "source": [
    "Analytically, this is the \n",
    "\n",
    "$$ P(\\text{has left neighbor}) P(\\Delta_\\text{left} = x | \\text{has left neighbor}) \n",
    "+ P(\\text{no left neighbor}) P(\\Delta_\\text{right} = x | \\text{no left neighbor}) $$\n",
    "\n",
    "where $ P(\\Delta_\\text{left} = x) = 0$ for $x > l_0$ and $P(\\Delta_\\text{right} = x) = 0$ for $x > L - l_0$."
   ]
  },
  {
   "cell_type": "code",
   "execution_count": 266,
   "metadata": {},
   "outputs": [],
   "source": [
    "def P_Ndel_ring(Ndel, mu, l0, L):\n",
    "    Ndel = np.array(Ndel)\n",
    "    lam = mu/L\n",
    "    # if ring, then it has left-side neighbor\n",
    "    Z_L = (1 - np.exp(-lam*l0)) / lam\n",
    "    return np.zeros_like(Ndel) + (Ndel >= 0)*(Ndel <= l0)*(1/Z_L)*np.exp(-lam*Ndel)\n",
    "\n",
    "def P_Ndel_linear(Ndel, mu, l0, L):\n",
    "    Ndel = np.array(Ndel)\n",
    "    lam = mu/L\n",
    "    has_left_only = (1 - np.exp(-lam*l0)) * np.exp(-lam*(L - l0))\n",
    "    has_right_only = (1 - np.exp(-lam*(L - l0))) * np.exp(-lam*l0)\n",
    "    Z_L = (1 - np.exp(-lam*l0)) / lam\n",
    "    Z_R = (1 - np.exp(-lam*(L - l0))) / lam\n",
    "    return np.zeros_like(Ndel) + (Ndel >= 0)*(\n",
    "        (Ndel <= l0) * has_left_only * (1/Z_L)*np.exp(-lam*Ndel)\n",
    "      + (Ndel <= L - l0) * has_right_only * (1/Z_R)*np.exp(-lam*Ndel)\n",
    "    )/(has_left_only + has_right_only)\n",
    "\n",
    "def P_Ndel(Ndel, mu, l0, L):\n",
    "    Ndel = np.array(Ndel)\n",
    "    return P_is_empty(mu)*np.zeros_like(Ndel) \\\n",
    "        + P_is_ring(mu, l0, L)*P_Ndel_ring(Ndel, mu, l0, L) \\\n",
    "        + P_is_linear(mu, l0, L)*P_Ndel_linear(Ndel, mu, l0, L)\n",
    "    \n",
    "# direct computation. needs to equal sum of split version\n",
    "def _P_Ndel(Ndel, mu, l0, L):\n",
    "    Ndel = np.array(Ndel)\n",
    "    lam = mu/L\n",
    "    has_left = (1 - np.exp(-lam*l0))\n",
    "    Z_L = (1 - np.exp(-lam*l0)) / lam\n",
    "    Z_R = (1 - np.exp(-lam*(L - l0))) / lam\n",
    "    Ndel_left = (1/Z_L)*np.exp(-lam*Ndel)\n",
    "    Ndel_right = (1/Z_R)*np.exp(-lam*Ndel)\n",
    "    return (Ndel >= 0) * (\n",
    "        (Ndel <= l0) * has_left * Ndel_left \n",
    "      + (Ndel <= L - l0) * (1 - has_left) * Ndel_right\n",
    "    )"
   ]
  },
  {
   "cell_type": "code",
   "execution_count": 267,
   "metadata": {},
   "outputs": [
    {
     "data": {
      "text/plain": [
       "[<matplotlib.lines.Line2D at 0x7f6cc0f905b0>]"
      ]
     },
     "execution_count": 267,
     "metadata": {},
     "output_type": "execute_result"
    },
    {
     "data": {
      "image/png": "[encoded data removed]",
      "text/plain": [
       "<Figure size 432x288 with 1 Axes>"
      ]
     },
     "metadata": {
      "needs_background": "light"
     },
     "output_type": "display_data"
    }
   ],
   "source": [
    "Y, del_bins, _ = plt.hist(Ndels, bins=np.arange(L+1), density=1)\n",
    "plt.yscale('log')\n",
    "\n",
    "x = np.linspace(0, L, 1000)\n",
    "plt.plot(x, P_Ndel(x, mu, label_loc, L))"
   ]
  }
 ],
 "metadata": {
  "kernelspec": {
   "display_name": "Python 3",
   "language": "python",
   "name": "python3"
  },
  "language_info": {
   "codemirror_mode": {
    "name": "ipython",
    "version": 3
   },
   "file_extension": ".py",
   "mimetype": "text/x-python",
   "name": "python",
   "nbconvert_exporter": "python",
   "pygments_lexer": "ipython3",
   "version": "3.8.5"
  }
 },
 "nbformat": 4,
 "nbformat_minor": 4
}
